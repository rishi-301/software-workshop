{
  "cells": [
    {
      "cell_type": "markdown",
      "metadata": {
        "id": "view-in-github",
        "colab_type": "text"
      },
      "source": [
        "<a href=\"https://colab.research.google.com/github/rishi-301/software-workshop/blob/simplified/Python_Task_(Simplified).ipynb\" target=\"_parent\"><img src=\"https://colab.research.google.com/assets/colab-badge.svg\" alt=\"Open In Colab\"/></a>"
      ]
    },
    {
      "cell_type": "markdown",
      "metadata": {
        "id": "nx8u9MLl3-U2"
      },
      "source": [
        "Upload a picture of yourself, convert it to grayscale. Convert the grayscale image to a numpy array. This numpy array corresponds to the marks of students of your class\n",
        "\n",
        "Write a class which takes the numpy array generated above as an input. The class must have the following variables:\n",
        "1. **number_of_students** (int)\n",
        "2. **name_of_teacher** (Your name) (str)\n",
        "3. **data** - stores the input numpy array (1-d numpy array)\n",
        "4. **stats** - A dictionary of statistics that you will be calculating from the input. (dictionary)\n",
        "5. **summary** - (list)\n",
        "\n",
        "The class must have the following functions:\n",
        "1. **__init__** - It normalises the input array and scales it to 100, and stores it in the variable 'data'. It also sets the variable 'name_of_teacher'. The init function calls the functions 'set_num_students' , 'statistics_calculator'. Therefore after __init__all variables other than 'summary' are set.\n",
        "\n",
        "2. **set_num_students** - sets the variable 'number_of_students' \n",
        "\n",
        "3. **statistics_calculator** - calculates the mean, median, maximum, minimum, standard deviation of the marks and stores it in the form of a dictionary in the variable 'stats'\n",
        "\n",
        "4. **organiser** - organises the data in a list in the form [name_of_teacher , number_of_students , stats], stores it in the variable 'summary' and prints it when called.\n",
        "\n"
      ]
    },
    {
      "cell_type": "markdown",
      "source": [
        "The below cell imports PIL for image manipulation and numpy as np.\n",
        "So if you now want to use any function of numpy, say the `numpy.shape()` function, you can now use `np.shape()` instead!"
      ],
      "metadata": {
        "id": "9ZpiJWoZUxPW"
      }
    },
    {
      "cell_type": "code",
      "source": [
        "from PIL import Image, ImageOps\n",
        "import numpy as np"
      ],
      "metadata": {
        "id": "HykVFJn7Pblf"
      },
      "execution_count": null,
      "outputs": []
    },
    {
      "cell_type": "markdown",
      "source": [
        "The next code block uses a PIL function named Image to open the file, as in import it to colab, and then converts it to grayscale using the ImageOps.grayscale function."
      ],
      "metadata": {
        "id": "e2LqC8WiUwMQ"
      }
    },
    {
      "cell_type": "code",
      "source": [
        "img = Image.open(\"img.JPG\")\n",
        "img_gray = ImageOps.grayscale(img)"
      ],
      "metadata": {
        "id": "TcFoGEMjPwIE"
      },
      "execution_count": null,
      "outputs": []
    },
    {
      "cell_type": "code",
      "source": [
        "img"
      ],
      "metadata": {
        "id": "f97EqghFVfKc"
      },
      "execution_count": null,
      "outputs": []
    },
    {
      "cell_type": "code",
      "source": [
        "img_gray"
      ],
      "metadata": {
        "id": "8BpNVBPcVgfz"
      },
      "execution_count": null,
      "outputs": []
    },
    {
      "cell_type": "markdown",
      "source": [
        "As you can see the above cells show you what img and img_gray look like"
      ],
      "metadata": {
        "id": "ZEJXRtnDWBqY"
      }
    },
    {
      "cell_type": "code",
      "source": [
        "img_as_array = np.asarray(img_gray)"
      ],
      "metadata": {
        "id": "lb8aGqCpP2gp"
      },
      "execution_count": null,
      "outputs": []
    },
    {
      "cell_type": "markdown",
      "source": [
        "The above cell converts the image to a numpy array. The next cell prints its shape."
      ],
      "metadata": {
        "id": "3tyNtusOWHwL"
      }
    },
    {
      "cell_type": "code",
      "source": [
        "img_as_array.shape"
      ],
      "metadata": {
        "id": "INf_qkj5P4us"
      },
      "execution_count": null,
      "outputs": []
    },
    {
      "cell_type": "code",
      "source": [
        "data = img_as_array.flatten()"
      ],
      "metadata": {
        "id": "FN39u0dQWZKn"
      },
      "execution_count": null,
      "outputs": []
    },
    {
      "cell_type": "code",
      "source": [
        "data.shape"
      ],
      "metadata": {
        "id": "42-qL8f_XSUP"
      },
      "execution_count": null,
      "outputs": []
    },
    {
      "cell_type": "markdown",
      "source": [
        "Now use `data` for the given tasks!"
      ],
      "metadata": {
        "id": "YiCVGLe_XwSg"
      }
    },
    {
      "cell_type": "code",
      "source": [
        "\n"
      ],
      "metadata": {
        "id": "IOTo-FcQXedf"
      },
      "execution_count": null,
      "outputs": []
    }
  ],
  "metadata": {
    "colab": {
      "provenance": [],
      "include_colab_link": true
    },
    "kernelspec": {
      "display_name": "Python 3",
      "name": "python3"
    },
    "language_info": {
      "name": "python"
    }
  },
  "nbformat": 4,
  "nbformat_minor": 0
}